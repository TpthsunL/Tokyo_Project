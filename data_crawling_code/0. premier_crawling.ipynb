{
 "cells": [
  {
   "cell_type": "code",
   "execution_count": 1,
   "id": "b4359744-612d-4906-b72b-a8328ab5d335",
   "metadata": {},
   "outputs": [],
   "source": [
    "import pandas as pd\n",
    "from bs4  import BeautifulSoup\n",
    "from time import sleep\n",
    "\n",
    "from selenium                          import webdriver\n",
    "from webdriver_manager.chrome          import ChromeDriverManager"
   ]
  },
  {
   "cell_type": "code",
   "execution_count": 2,
   "id": "9771acae-6fe5-49ed-97d7-ef5b17964a10",
   "metadata": {},
   "outputs": [
    {
     "name": "stdout",
     "output_type": "stream",
     "text": [
      "https://namu.wiki/w/%EA%B9%80%EC%9D%B8%EC%8B%9D%ED%98%B8/2015%EB%85%84\n",
      "https://namu.wiki/w/%EA%B9%80%EA%B2%BD%EB%AC%B8%ED%98%B8/2019%EB%85%84\n"
     ]
    }
   ],
   "source": [
    "# 사용할 url\n",
    "print(\"https://namu.wiki/w/%EA%B9%80%EC%9D%B8%EC%8B%9D%ED%98%B8/2015%EB%85%84\\n\"\n",
    "\"https://namu.wiki/w/%EA%B9%80%EA%B2%BD%EB%AC%B8%ED%98%B8/2019%EB%85%84\")"
   ]
  },
  {
   "cell_type": "code",
   "execution_count": 3,
   "id": "61c660ad-8e7b-41d5-8c34-782263ba96b5",
   "metadata": {},
   "outputs": [
    {
     "name": "stderr",
     "output_type": "stream",
     "text": [
      "\n",
      "\n",
      "====== WebDriver manager ======\n",
      "Current google-chrome version is 91.0.4472\n",
      "Get LATEST driver version for 91.0.4472\n",
      "Driver [/Users/orangemush/.wdm/drivers/chromedriver/mac64/91.0.4472.101/chromedriver] found in cache\n"
     ]
    },
    {
     "name": "stdout",
     "output_type": "stream",
     "text": [
      "이름, 경기, 선발, 타수, 안타, 2루타, 3루타, 홈런, 타점, 득점, 타율, 출루율, 장타율, OPS, 도루, \n",
      "\n",
      "양의지, 8, 4, 13, 3, 0, 0, 1, 2, 2, .231, .333, .462, .795, 0, \n",
      "\n",
      "강민호, 8, 4, 12, 3, 1, 0, 0, 0, 3, .250, .400, .333, .733, 0, \n",
      "\n",
      "이대호, 8, 8, 27, 6, 0, 0, 1, 7, 2, .222, .382, .333, .715, 0, \n",
      "\n",
      "박병호, 8, 7, 29, 6, 1, 1, 2, 4, 4, .207, .324, .517, .841, 1, \n",
      "\n",
      "정근우, 8, 8, 34, 12, 4, 0, 0, 9, 7, .353, .421, .471, .892, 2, \n",
      "\n",
      "오재원, 7, 1, 6, 3, 0, 0, 0, 1, 1, .500, .556, .500, 1.056, 0, \n",
      "\n",
      "황재균, 8, 7, 29, 8, 0, 0, 2, 3, 4, .276, .322, .483, .805, 1, \n",
      "\n",
      "허경민, 4, 1, 2, 0, 0, 0, 0, 0, 0, 2, .000, .000, .000, 0, \n",
      "\n",
      "김재호, 7, 7, 19, 8, 2, 0, 0, 1, 6, .421, .450, .526, .976, 0, \n",
      "\n",
      "김상수, 4, 1, 5, 1, 0, 0, 0, 0, 0, .200, .333, .200, .533, 0, \n",
      "\n",
      "김현수, 8, 8, 33, 11, 4, 1, 0, 13, 4, .333, .405, .515, .920, 1, \n",
      "\n",
      "이용규, 7, 6, 28, 6, 1, 0, 0, 2, 7, .214, .333, .250, .583, 0, \n",
      "\n",
      "손아섭, 7, 4, 12, 4, 0, 0, 0, 1, 3, .333, .500, .333, .833, 0, \n",
      "\n"
     ]
    }
   ],
   "source": [
    "\"\"\"\n",
    "15_premier 성적 가져오기\n",
    "\"\"\"\n",
    "\n",
    "url = \"https://namu.wiki/w/%EA%B9%80%EC%9D%B8%EC%8B%9D%ED%98%B8/2015%EB%85%84#s-6.1\"\n",
    "driver = webdriver.Chrome(executable_path=ChromeDriverManager().install())\n",
    "driver.get(url)\n",
    "a = driver.find_element_by_xpath('//*[@id=\"app\"]/div/div[2]/article/div[3]/div[2]/div/div/div[29]/div[3]/table')\n",
    "\n",
    "\n",
    "# 제목이 1행\n",
    "# 2행 1열\n",
    "'//*[@id=\"app\"]/div/div[2]/article/div[3]/div[2]/div/div/div[28]/div[3]/table/tbody/tr[2]/td[1]/div'\n",
    "# 2행 2열\n",
    "'//*[@id=\"app\"]/div/div[2]/article/div[3]/div[2]/div/div/div[29]/div[3]/table/tbody/tr[3]/td[2]/div'\n",
    "\n",
    "# row    = 2 ~ 15\n",
    "# column = 1 ~ 14\n",
    "for row in range(2, 16):\n",
    "    for col in range(1, 16):\n",
    "        xpath = f'//*[@id=\"app\"]/div/div[2]/article/div[3]/div[2]/div/div/div[28]/div[3]/table/tbody/tr[{row}]/td[{col}]/div'\n",
    "        print(a.find_element_by_xpath(xpath).text, end=', ')\n",
    "    print('\\n')\n",
    "driver.quit()"
   ]
  },
  {
   "cell_type": "code",
   "execution_count": 4,
   "id": "4bd81de0-3599-4272-9296-254daa318ba7",
   "metadata": {},
   "outputs": [
    {
     "name": "stderr",
     "output_type": "stream",
     "text": [
      "\n",
      "\n",
      "====== WebDriver manager ======\n",
      "Current google-chrome version is 91.0.4472\n",
      "Get LATEST driver version for 91.0.4472\n",
      "Driver [/Users/orangemush/.wdm/drivers/chromedriver/mac64/91.0.4472.101/chromedriver] found in cache\n"
     ]
    },
    {
     "name": "stdout",
     "output_type": "stream",
     "text": [
      "이름, 경기, 선발, 타수, 안타, 2루타, 3루타, 홈런, 타점, 득점, 타율, 출루율, 장타율, OPS, \n",
      "\n",
      "강백호, 5, 1, 7, 2, 0, 0, 0, 3, 1, .286, .375, .286, .661, \n",
      "\n",
      "김재환, 8, 7, 25, 4, 0, 0, 1, 6, 4, .160, .250, .280, .530, \n",
      "\n",
      "김상수, 6, 1, 10, 3, 1, 0, 0, 2, 1, .300, .417, .400, .817, \n",
      "\n",
      "김하성, 8, 8, 27, 7, 1, 0, 1, 6, 7, .333, .438, .481, .919, \n",
      "\n",
      "김현수, 8, 8, 23, 8, 2, 0, 1, 6, 5, .348, .464, .565, 1.029, \n",
      "\n",
      "민병헌, 8, 7, 23, 5, 2, 0, 0, 2, 2, .217, .217, .304, .521, \n",
      "\n",
      "박건우, 6, 0, 5, 1, 0, 0, 0, 0, 1, .200, .333, .200, .533, \n",
      "\n",
      "박민우, 6, 6, 20, 3, 0, 0, 0, 2, 2, .150, .346, .150, .496, \n",
      "\n",
      "박병호, 8, 8, 28, 5, 0, 0, 0, 2, 3, .179, .324, .179, .503, \n",
      "\n",
      "박세혁, 6, 1, 3, 1, 1, 0, 0, 1, 1, .333, .333, .667, 1.000, \n",
      "\n",
      "양의지, 8, 7, 23, 2, 1, 0, 0, 1, 1, .087, .241, .130, .371, \n",
      "\n",
      "이정후, 8, 6, 26, 10, 5, 0, 0, 4, 5, .385, .484, .577, 1.061, \n",
      "\n",
      "원종현, 0, 0, 0, 0, 0, 0, 0, 0, 0, .000, .000, .000, .000, \n",
      "\n"
     ]
    }
   ],
   "source": [
    "\"\"\"\n",
    "19_premier 성적 가져오기\n",
    "\"\"\"\n",
    "\n",
    "url = \"https://namu.wiki/w/%EA%B9%80%EA%B2%BD%EB%AC%B8%ED%98%B8/2019%EB%85%84#s-9.1\"\n",
    "driver = webdriver.Chrome(executable_path=ChromeDriverManager().install())\n",
    "driver.get(url)\n",
    "table_xpath = '//*[@id=\"app\"]/div/div[2]/article/div[3]/div[2]/div/div/div[23]/div[1]/table'\n",
    "table = driver.find_element_by_xpath(table_xpath)\n",
    "\n",
    "\n",
    "# 2행 1열\n",
    "'//*[@id=\"app\"]/div/div[2]/article/div[3]/div[2]/div/div/div[23]/div[1]/table/tbody/tr[2]/td[1]/div'\n",
    "# 3행 2열\n",
    "'//*[@id=\"app\"]/div/div[2]/article/div[3]/div[2]/div/div/div[23]/div[1]/table/tbody/tr[3]/td[2]/div'\n",
    "f'//*[@id=\"app\"]/div/div[2]/article/div[3]/div[2]/div/div/div[23]/div[1]/table/tbody/tr[{row}]/td[{col}]/div'\n",
    "\n",
    "# row    = 2 ~ 15\n",
    "# column = 1 ~ 14\n",
    "for row in range(2, 16):\n",
    "    for col in range(1, 15):\n",
    "        xpath = f'//*[@id=\"app\"]/div/div[2]/article/div[3]/div[2]/div/div/div[23]/div[1]/table/tbody/tr[{row}]/td[{col}]/div'\n",
    "        print(table.find_element_by_xpath(xpath).text, end=', ')\n",
    "    print('\\n')\n",
    "driver.quit()"
   ]
  },
  {
   "cell_type": "code",
   "execution_count": 5,
   "id": "0156fa0b-6d60-4cfe-b762-796fc509f836",
   "metadata": {},
   "outputs": [],
   "source": [
    "# 15, 19 프리미어 전처리 및 csv화 시키기\n",
    "\n",
    "premier_15_df = pd.read_csv('data/15_premier.csv')\n",
    "premier_15_df[\"연도\"] = 2015\n",
    "\n",
    "premier_19_df = pd.read_csv('data/19_premier.csv')\n",
    "premier_19_df[\"연도\"] = 2019\n",
    "\n",
    "premier_15_df.to_csv('data/15_premier.csv', index=False)\n",
    "premier_19_df.to_csv('data/19_premier.csv', index=False)"
   ]
  },
  {
   "cell_type": "code",
   "execution_count": 6,
   "id": "8a9a6452-b5bb-4d03-931f-90b303b2e6d1",
   "metadata": {},
   "outputs": [],
   "source": [
    "premier_15_df = pd.read_csv('data/15_premier.csv')\n",
    "premier_19_df = pd.read_csv('data/19_premier.csv')\n",
    "premier_df    = pd.concat([premier_15_df, premier_19_df]).reset_index(drop=True)\n",
    "\n",
    "# premier_df OPS 중복 column 처리 및 csv화\n",
    "premier_df.iloc[13:, 13] = premier_df.iloc[13:, 14]\n",
    "premier_df = premier_df.drop('OPS', axis=1)\n",
    "premier_df.to_csv('data/premier.csv', index=False)"
   ]
  },
  {
   "cell_type": "code",
   "execution_count": 11,
   "id": "dd065780-f800-46d0-89d9-e1523d52e9ed",
   "metadata": {},
   "outputs": [
    {
     "data": {
      "text/plain": [
       "['강백호',\n",
       " '김재환',\n",
       " '김상수',\n",
       " '김하성',\n",
       " '김현수',\n",
       " '민병헌',\n",
       " '박건우',\n",
       " '박민우',\n",
       " '박병호',\n",
       " '박세혁',\n",
       " '양의지',\n",
       " '이정후',\n",
       " '원종현']"
      ]
     },
     "execution_count": 11,
     "metadata": {},
     "output_type": "execute_result"
    }
   ],
   "source": [
    "# 확인\n",
    "pd.read_csv('data/premier.csv')[pd.read_csv('data/premier.csv')[\"연도\"] == 2019][\"이름\"].tolist()"
   ]
  },
  {
   "cell_type": "code",
   "execution_count": null,
   "id": "1d1965d3-38f1-4c53-a922-c929f97aaf4d",
   "metadata": {},
   "outputs": [],
   "source": []
  }
 ],
 "metadata": {
  "kernelspec": {
   "display_name": "Python 3 (ipykernel)",
   "language": "python",
   "name": "python3"
  },
  "language_info": {
   "codemirror_mode": {
    "name": "ipython",
    "version": 3
   },
   "file_extension": ".py",
   "mimetype": "text/x-python",
   "name": "python",
   "nbconvert_exporter": "python",
   "pygments_lexer": "ipython3",
   "version": "3.8.10"
  }
 },
 "nbformat": 4,
 "nbformat_minor": 5
}
